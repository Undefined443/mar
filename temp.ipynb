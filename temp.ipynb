{
 "cells": [
  {
   "cell_type": "code",
   "execution_count": null,
   "id": "95795513",
   "metadata": {},
   "outputs": [
    {
     "name": "stdout",
     "output_type": "stream",
     "text": [
      "torch.Size([8, 3, 256, 256])\n"
     ]
    }
   ],
   "source": [
    "import torch\n",
    "import torchvision.transforms as transforms\n",
    "import torchvision.datasets as datasets\n",
    "from taming.models.vqgan import VQModel\n",
    "from omegaconf import OmegaConf\n",
    "\n",
    "transform = transforms.Compose(\n",
    "    [\n",
    "        transforms.RandomResizedCrop(256, scale=(0.2, 1.0)),\n",
    "        transforms.RandomHorizontalFlip(),\n",
    "        transforms.ToTensor(),\n",
    "    ]\n",
    ")\n",
    "\n",
    "dataset = datasets.ImageFolder(\"data/train\", transform=transform)\n",
    "\n",
    "data_loader = torch.utils.data.DataLoader(\n",
    "    dataset,\n",
    "    batch_size=8,\n",
    "    num_workers=1,\n",
    "    pin_memory=True,\n",
    "    drop_last=True,\n",
    ")\n",
    "\n",
    "sample, _ = next(iter(data_loader))\n",
    "sample = sample.cuda()"
   ]
  },
  {
   "cell_type": "code",
   "execution_count": 11,
   "id": "ce2fedb9",
   "metadata": {},
   "outputs": [
    {
     "name": "stdout",
     "output_type": "stream",
     "text": [
      "Working with z of shape (1, 256, 16, 16) = 65536 dimensions.\n",
      "Strict load\n",
      "Restored from pretrained_models/vae/vqgan_jax_strongaug.pt\n"
     ]
    }
   ],
   "source": [
    "config = OmegaConf.load(\"config/vqgan.yaml\").model\n",
    "vqgan = VQModel(\n",
    "    ddconfig=config.params.ddconfig,\n",
    "    n_embed=config.params.n_embed,\n",
    "    embed_dim=config.params.embed_dim,\n",
    "    ckpt_path=\"pretrained_models/vae/vqgan_jax_strongaug.pt\",\n",
    ")\n",
    "for param in vqgan.parameters():\n",
    "    param.requires_grad = False\n",
    "\n",
    "vqgan.eval()\n",
    "vqgan.cuda()\n",
    "with torch.no_grad():\n",
    "    z_q, _, token_tuple = vqgan.encode(sample)\n",
    "\n",
    "_, _, token_indices = token_tuple\n",
    "B, C, H, W = z_q.shape\n",
    "z_q = z_q.reshape(B, C, -1).permute(0, 2, 1)\n",
    "token_indices = token_indices.reshape(B, -1)\n",
    "gt_indices = token_indices.clone().detach().long()"
   ]
  },
  {
   "cell_type": "code",
   "execution_count": null,
   "id": "9e4f245f",
   "metadata": {},
   "outputs": [
    {
     "name": "stdout",
     "output_type": "stream",
     "text": [
      "torch.Size([8, 3, 256, 256])\n",
      "torch.Size([8, 256, 256])\n",
      "torch.Size([8, 256])\n"
     ]
    }
   ],
   "source": [
    "print(sample.shape)         # [B, C, H, W]\n",
    "print(z_q.shape)            # [B, N, D]\n",
    "print(token_indices.shape)  # [B, N]"
   ]
  },
  {
   "cell_type": "code",
   "execution_count": 13,
   "id": "41326c1f",
   "metadata": {},
   "outputs": [
    {
     "name": "stdout",
     "output_type": "stream",
     "text": [
      "tensor(1.0460, device='cuda:0')\n"
     ]
    }
   ],
   "source": [
    "print(z_q.std())"
   ]
  },
  {
   "cell_type": "code",
   "execution_count": null,
   "id": "7c85278b",
   "metadata": {},
   "outputs": [],
   "source": []
  }
 ],
 "metadata": {
  "kernelspec": {
   "display_name": "vq",
   "language": "python",
   "name": "python3"
  },
  "language_info": {
   "codemirror_mode": {
    "name": "ipython",
    "version": 3
   },
   "file_extension": ".py",
   "mimetype": "text/x-python",
   "name": "python",
   "nbconvert_exporter": "python",
   "pygments_lexer": "ipython3",
   "version": "3.12.11"
  }
 },
 "nbformat": 4,
 "nbformat_minor": 5
}
